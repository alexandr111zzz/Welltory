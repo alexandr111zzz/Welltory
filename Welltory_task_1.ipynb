{
 "cells": [
  {
   "cell_type": "markdown",
   "id": "9b8b76d9",
   "metadata": {},
   "source": [
    "Есть две pandas таблицы, каждая содержит два столбца. В первой это время и сердечный ритм. Во второй — это время и систолическое давление.\n",
    "\n",
    "Напишите код, который создает третью таблицу, в которой для каждого замера давления в той же строке содержится время и значение ближайшего замера сердечного ритма, если он был сделан обязательно до замера давления и не раньше, чем за 15 минут."
   ]
  },
  {
   "cell_type": "code",
   "execution_count": 1,
   "id": "02825757",
   "metadata": {},
   "outputs": [],
   "source": [
    "# Произведём импорт необходимых модулей и библиотек\n",
    "\n",
    "import pandas as pd\n",
    "from datetime import datetime, timedelta"
   ]
  },
  {
   "cell_type": "code",
   "execution_count": 2,
   "id": "ebea4875",
   "metadata": {},
   "outputs": [],
   "source": [
    "# Импорт исходных данных\n",
    "\n",
    "df_hr = pd.DataFrame({'time': [datetime(2022,1,1,7,40), datetime(2022,1,1,9,50), datetime(2022,1,1,10,1)], 'hr': [60, 90,100]})\n",
    "df_bp = pd.DataFrame({'time': [datetime(2022,1,1,10), datetime(2022,1,1,8)], 'bp': [140, 120]})"
   ]
  },
  {
   "cell_type": "code",
   "execution_count": 3,
   "id": "5cf64bd6",
   "metadata": {},
   "outputs": [],
   "source": [
    "# Функция принимает на вход два датафрейма с исходными данными\n",
    "\n",
    "def welltory_task_1(df_hr, df_bp):\n",
    "    \n",
    "    # Произведём слияние df(общий столбец time), отсортируем по убыванию времени, сбросим индексы, чтобы не путаться,\n",
    "    # заполним пустые значения нулями, вернём тип int64 столбцам hr и bp\n",
    "    new_df = pd.concat([df_hr, df_bp]) \\\n",
    "               .sort_values('time', ascending = False) \\\n",
    "               .reset_index(drop=True) \\\n",
    "               .fillna(0) \\\n",
    "               .astype({'hr': 'Int64', 'bp': 'Int64'})\n",
    "    \n",
    "    # Отберём те значения индексов строк df в список, в которых разница по времени со следующей строкой не превышает 15 минут,\n",
    "    # имеются показания давления в текущей строке и показания сердечного ритма в следующей\n",
    "    spisok_bp = [i for i in range(new_df.shape[0] - 1) \\\n",
    "                 if new_df.time[i] - timedelta(minutes = 15) < new_df.time[i + 1] \\\n",
    "                 and new_df.bp[i] > 0 \\\n",
    "                 and new_df.hr[i + 1] > 0]\n",
    "    \n",
    "    # Создадим новый df, в котором отберём строки по списку индексов, найденных в предыдущей операции, оставив в нём\n",
    "    # значения времени и давления, сбросим индекс, переименуем колонку 'time', отразив принадлежность к замеру давления\n",
    "    bp_df = new_df.iloc[spisok_bp][['time', 'bp']].reset_index(drop=True).rename(columns = {'time': 'time_bp'})\n",
    "    \n",
    "    # Информация по сердечному ритму и времени его замера, удовлетворяющая условию задачи,\n",
    "    # будет содержаться на следующих строках от отобранных нами ранее строк с информацией по давлению\n",
    "    spisok_hr = [i + 1 for i in spisok_bp]\n",
    "    \n",
    "    # Создадим новый df, в котором отберём строки по списку индексов, найденных в предыдущей операции, оставив в нём\n",
    "    # значения времени и сердечного ритма, сбросим индекс, переименуем колонку 'time', \n",
    "    # отразив принадлежность к замеру сердечного ритма\n",
    "    hr_df = new_df.iloc[spisok_hr][['time', 'hr']].reset_index(drop=True).rename(columns = {'time': 'time_hr'})\n",
    "    \n",
    "    # Произведём слияние, полученных df по индексам\n",
    "    final_df = hr_df.merge(bp_df, left_index = True, right_index = True)\n",
    "    \n",
    "    return final_df"
   ]
  },
  {
   "cell_type": "code",
   "execution_count": 16,
   "id": "ca338d4d",
   "metadata": {},
   "outputs": [
    {
     "data": {
      "text/html": [
       "<div>\n",
       "<style scoped>\n",
       "    .dataframe tbody tr th:only-of-type {\n",
       "        vertical-align: middle;\n",
       "    }\n",
       "\n",
       "    .dataframe tbody tr th {\n",
       "        vertical-align: top;\n",
       "    }\n",
       "\n",
       "    .dataframe thead th {\n",
       "        text-align: right;\n",
       "    }\n",
       "</style>\n",
       "<table border=\"1\" class=\"dataframe\">\n",
       "  <thead>\n",
       "    <tr style=\"text-align: right;\">\n",
       "      <th></th>\n",
       "      <th>time_hr</th>\n",
       "      <th>hr</th>\n",
       "      <th>time_bp</th>\n",
       "      <th>bp</th>\n",
       "    </tr>\n",
       "  </thead>\n",
       "  <tbody>\n",
       "    <tr>\n",
       "      <th>0</th>\n",
       "      <td>2022-01-01 09:50:00</td>\n",
       "      <td>90</td>\n",
       "      <td>2022-01-01 10:00:00</td>\n",
       "      <td>140</td>\n",
       "    </tr>\n",
       "  </tbody>\n",
       "</table>\n",
       "</div>"
      ],
      "text/plain": [
       "              time_hr  hr             time_bp   bp\n",
       "0 2022-01-01 09:50:00  90 2022-01-01 10:00:00  140"
      ]
     },
     "execution_count": 16,
     "metadata": {},
     "output_type": "execute_result"
    }
   ],
   "source": [
    "welltory_task_1(df_hr, df_bp)"
   ]
  },
  {
   "cell_type": "markdown",
   "id": "8ca4cb1a",
   "metadata": {},
   "source": [
    "---"
   ]
  },
  {
   "cell_type": "code",
   "execution_count": 4,
   "id": "b2cbb941",
   "metadata": {},
   "outputs": [],
   "source": [
    "# Импорт исходных данных\n",
    "\n",
    "df_hr = pd.DataFrame({'time': [datetime(2022,1,1,7,40), datetime(2022,1,1,9,50), datetime(2022,1,1,10,1)], 'hr': [60, 90,100]})\n",
    "df_bp = pd.DataFrame({'time': [datetime(2022,1,1,10), datetime(2022,1,1,8)], 'bp': [140, 120]})"
   ]
  },
  {
   "cell_type": "code",
   "execution_count": 5,
   "id": "7116f92f",
   "metadata": {},
   "outputs": [
    {
     "data": {
      "text/html": [
       "<div>\n",
       "<style scoped>\n",
       "    .dataframe tbody tr th:only-of-type {\n",
       "        vertical-align: middle;\n",
       "    }\n",
       "\n",
       "    .dataframe tbody tr th {\n",
       "        vertical-align: top;\n",
       "    }\n",
       "\n",
       "    .dataframe thead th {\n",
       "        text-align: right;\n",
       "    }\n",
       "</style>\n",
       "<table border=\"1\" class=\"dataframe\">\n",
       "  <thead>\n",
       "    <tr style=\"text-align: right;\">\n",
       "      <th></th>\n",
       "      <th>time</th>\n",
       "      <th>hr</th>\n",
       "    </tr>\n",
       "  </thead>\n",
       "  <tbody>\n",
       "    <tr>\n",
       "      <th>0</th>\n",
       "      <td>2022-01-01 07:40:00</td>\n",
       "      <td>60</td>\n",
       "    </tr>\n",
       "    <tr>\n",
       "      <th>1</th>\n",
       "      <td>2022-01-01 09:50:00</td>\n",
       "      <td>90</td>\n",
       "    </tr>\n",
       "    <tr>\n",
       "      <th>2</th>\n",
       "      <td>2022-01-01 10:01:00</td>\n",
       "      <td>100</td>\n",
       "    </tr>\n",
       "  </tbody>\n",
       "</table>\n",
       "</div>"
      ],
      "text/plain": [
       "                 time   hr\n",
       "0 2022-01-01 07:40:00   60\n",
       "1 2022-01-01 09:50:00   90\n",
       "2 2022-01-01 10:01:00  100"
      ]
     },
     "execution_count": 5,
     "metadata": {},
     "output_type": "execute_result"
    }
   ],
   "source": [
    "# df со временем и сердечным ритмом\n",
    "\n",
    "df_hr"
   ]
  },
  {
   "cell_type": "code",
   "execution_count": 6,
   "id": "a5715c4c",
   "metadata": {},
   "outputs": [
    {
     "data": {
      "text/html": [
       "<div>\n",
       "<style scoped>\n",
       "    .dataframe tbody tr th:only-of-type {\n",
       "        vertical-align: middle;\n",
       "    }\n",
       "\n",
       "    .dataframe tbody tr th {\n",
       "        vertical-align: top;\n",
       "    }\n",
       "\n",
       "    .dataframe thead th {\n",
       "        text-align: right;\n",
       "    }\n",
       "</style>\n",
       "<table border=\"1\" class=\"dataframe\">\n",
       "  <thead>\n",
       "    <tr style=\"text-align: right;\">\n",
       "      <th></th>\n",
       "      <th>time</th>\n",
       "      <th>bp</th>\n",
       "    </tr>\n",
       "  </thead>\n",
       "  <tbody>\n",
       "    <tr>\n",
       "      <th>0</th>\n",
       "      <td>2022-01-01 10:00:00</td>\n",
       "      <td>140</td>\n",
       "    </tr>\n",
       "    <tr>\n",
       "      <th>1</th>\n",
       "      <td>2022-01-01 08:00:00</td>\n",
       "      <td>120</td>\n",
       "    </tr>\n",
       "  </tbody>\n",
       "</table>\n",
       "</div>"
      ],
      "text/plain": [
       "                 time   bp\n",
       "0 2022-01-01 10:00:00  140\n",
       "1 2022-01-01 08:00:00  120"
      ]
     },
     "execution_count": 6,
     "metadata": {},
     "output_type": "execute_result"
    }
   ],
   "source": [
    "# df со временем и систолическим давлением\n",
    "\n",
    "df_bp"
   ]
  },
  {
   "cell_type": "code",
   "execution_count": 7,
   "id": "ce3efc3a",
   "metadata": {},
   "outputs": [
    {
     "data": {
      "text/html": [
       "<div>\n",
       "<style scoped>\n",
       "    .dataframe tbody tr th:only-of-type {\n",
       "        vertical-align: middle;\n",
       "    }\n",
       "\n",
       "    .dataframe tbody tr th {\n",
       "        vertical-align: top;\n",
       "    }\n",
       "\n",
       "    .dataframe thead th {\n",
       "        text-align: right;\n",
       "    }\n",
       "</style>\n",
       "<table border=\"1\" class=\"dataframe\">\n",
       "  <thead>\n",
       "    <tr style=\"text-align: right;\">\n",
       "      <th></th>\n",
       "      <th>time</th>\n",
       "      <th>hr</th>\n",
       "      <th>bp</th>\n",
       "    </tr>\n",
       "  </thead>\n",
       "  <tbody>\n",
       "    <tr>\n",
       "      <th>0</th>\n",
       "      <td>2022-01-01 10:01:00</td>\n",
       "      <td>100</td>\n",
       "      <td>0</td>\n",
       "    </tr>\n",
       "    <tr>\n",
       "      <th>1</th>\n",
       "      <td>2022-01-01 10:00:00</td>\n",
       "      <td>0</td>\n",
       "      <td>140</td>\n",
       "    </tr>\n",
       "    <tr>\n",
       "      <th>2</th>\n",
       "      <td>2022-01-01 09:50:00</td>\n",
       "      <td>90</td>\n",
       "      <td>0</td>\n",
       "    </tr>\n",
       "    <tr>\n",
       "      <th>3</th>\n",
       "      <td>2022-01-01 08:00:00</td>\n",
       "      <td>0</td>\n",
       "      <td>120</td>\n",
       "    </tr>\n",
       "    <tr>\n",
       "      <th>4</th>\n",
       "      <td>2022-01-01 07:40:00</td>\n",
       "      <td>60</td>\n",
       "      <td>0</td>\n",
       "    </tr>\n",
       "  </tbody>\n",
       "</table>\n",
       "</div>"
      ],
      "text/plain": [
       "                 time   hr   bp\n",
       "0 2022-01-01 10:01:00  100    0\n",
       "1 2022-01-01 10:00:00    0  140\n",
       "2 2022-01-01 09:50:00   90    0\n",
       "3 2022-01-01 08:00:00    0  120\n",
       "4 2022-01-01 07:40:00   60    0"
      ]
     },
     "execution_count": 7,
     "metadata": {},
     "output_type": "execute_result"
    }
   ],
   "source": [
    "# Произведём слияние df(общий столбец time), отсортируем по убыванию времени, сбросим индексы, чтобы не путаться,\n",
    "# заполним пустые значения нулями, вернём тип int64 столбцам hr и bp\n",
    "\n",
    "new_df = pd.concat([df_hr, df_bp])\n",
    "new_df = new_df.sort_values('time', ascending = False).reset_index(drop=True).fillna(0).astype({'hr': 'Int64', 'bp': 'Int64'})\n",
    "new_df"
   ]
  },
  {
   "cell_type": "code",
   "execution_count": 8,
   "id": "3be9047d",
   "metadata": {},
   "outputs": [],
   "source": [
    "# Отберём те значения индексов строк df в список, в которых разница по времени со следующей строкой не превышает 15 минут,\n",
    "# имеются показания давления в текущей строке и показания сердечного ритма в следующей\n",
    "\n",
    "spisok_bp = [i for i in range(new_df.shape[0] - 1) \\\n",
    "             if new_df.time[i] - timedelta(minutes = 15) < new_df.time[i + 1] and new_df.bp[i] > 0 and new_df.hr[i + 1] > 0]"
   ]
  },
  {
   "cell_type": "code",
   "execution_count": 9,
   "id": "5467b53c",
   "metadata": {},
   "outputs": [
    {
     "data": {
      "text/html": [
       "<div>\n",
       "<style scoped>\n",
       "    .dataframe tbody tr th:only-of-type {\n",
       "        vertical-align: middle;\n",
       "    }\n",
       "\n",
       "    .dataframe tbody tr th {\n",
       "        vertical-align: top;\n",
       "    }\n",
       "\n",
       "    .dataframe thead th {\n",
       "        text-align: right;\n",
       "    }\n",
       "</style>\n",
       "<table border=\"1\" class=\"dataframe\">\n",
       "  <thead>\n",
       "    <tr style=\"text-align: right;\">\n",
       "      <th></th>\n",
       "      <th>time_bp</th>\n",
       "      <th>bp</th>\n",
       "    </tr>\n",
       "  </thead>\n",
       "  <tbody>\n",
       "    <tr>\n",
       "      <th>0</th>\n",
       "      <td>2022-01-01 10:00:00</td>\n",
       "      <td>140</td>\n",
       "    </tr>\n",
       "  </tbody>\n",
       "</table>\n",
       "</div>"
      ],
      "text/plain": [
       "              time_bp   bp\n",
       "0 2022-01-01 10:00:00  140"
      ]
     },
     "execution_count": 9,
     "metadata": {},
     "output_type": "execute_result"
    }
   ],
   "source": [
    "# Создадим новый df, в котором отберём строки по списку индексов, найденных в предыдущей операции, оставив в нём\n",
    "# значения времени и давления, сбросим индекс, переименуем колонку 'time', отразив принадлежность к замеру давления\n",
    "\n",
    "bp_df = new_df.iloc[spisok_bp][['time', 'bp']].reset_index(drop=True).rename(columns = {'time': 'time_bp'})\n",
    "bp_df"
   ]
  },
  {
   "cell_type": "code",
   "execution_count": 10,
   "id": "22422642",
   "metadata": {},
   "outputs": [],
   "source": [
    "# Информация по сердечному ритму и времени его замера, удовлетворяющая условию задачи,\n",
    "# будет содержаться на следующих строках от отобранных нами ранее строк с информацией по давлению\n",
    "\n",
    "spisok_hr = [i + 1 for i in spisok_bp]"
   ]
  },
  {
   "cell_type": "code",
   "execution_count": 11,
   "id": "7867a8e1",
   "metadata": {},
   "outputs": [
    {
     "data": {
      "text/html": [
       "<div>\n",
       "<style scoped>\n",
       "    .dataframe tbody tr th:only-of-type {\n",
       "        vertical-align: middle;\n",
       "    }\n",
       "\n",
       "    .dataframe tbody tr th {\n",
       "        vertical-align: top;\n",
       "    }\n",
       "\n",
       "    .dataframe thead th {\n",
       "        text-align: right;\n",
       "    }\n",
       "</style>\n",
       "<table border=\"1\" class=\"dataframe\">\n",
       "  <thead>\n",
       "    <tr style=\"text-align: right;\">\n",
       "      <th></th>\n",
       "      <th>time_hr</th>\n",
       "      <th>hr</th>\n",
       "    </tr>\n",
       "  </thead>\n",
       "  <tbody>\n",
       "    <tr>\n",
       "      <th>0</th>\n",
       "      <td>2022-01-01 09:50:00</td>\n",
       "      <td>90</td>\n",
       "    </tr>\n",
       "  </tbody>\n",
       "</table>\n",
       "</div>"
      ],
      "text/plain": [
       "              time_hr  hr\n",
       "0 2022-01-01 09:50:00  90"
      ]
     },
     "execution_count": 11,
     "metadata": {},
     "output_type": "execute_result"
    }
   ],
   "source": [
    "# Создадим новый df, в котором отберём строки по списку индексов, найденных в предыдущей операции, оставив в нём\n",
    "# значения времени и сердечного ритма, сбросим индекс, переименуем колонку 'time', \n",
    "# отразив принадлежность к замеру сердечного ритма\n",
    "\n",
    "hr_df = new_df.iloc[spisok_hr][['time', 'hr']].reset_index(drop=True).rename(columns = {'time': 'time_hr'})\n",
    "hr_df"
   ]
  },
  {
   "cell_type": "code",
   "execution_count": 12,
   "id": "845236fc",
   "metadata": {},
   "outputs": [],
   "source": [
    "# Произведём слияние, полученных df по индексам\n",
    "\n",
    "final_df = hr_df.merge(bp_df, left_index = True, right_index = True)"
   ]
  },
  {
   "cell_type": "code",
   "execution_count": 13,
   "id": "90bc3bc2",
   "metadata": {},
   "outputs": [
    {
     "data": {
      "text/html": [
       "<div>\n",
       "<style scoped>\n",
       "    .dataframe tbody tr th:only-of-type {\n",
       "        vertical-align: middle;\n",
       "    }\n",
       "\n",
       "    .dataframe tbody tr th {\n",
       "        vertical-align: top;\n",
       "    }\n",
       "\n",
       "    .dataframe thead th {\n",
       "        text-align: right;\n",
       "    }\n",
       "</style>\n",
       "<table border=\"1\" class=\"dataframe\">\n",
       "  <thead>\n",
       "    <tr style=\"text-align: right;\">\n",
       "      <th></th>\n",
       "      <th>time_hr</th>\n",
       "      <th>hr</th>\n",
       "      <th>time_bp</th>\n",
       "      <th>bp</th>\n",
       "    </tr>\n",
       "  </thead>\n",
       "  <tbody>\n",
       "    <tr>\n",
       "      <th>0</th>\n",
       "      <td>2022-01-01 09:50:00</td>\n",
       "      <td>90</td>\n",
       "      <td>2022-01-01 10:00:00</td>\n",
       "      <td>140</td>\n",
       "    </tr>\n",
       "  </tbody>\n",
       "</table>\n",
       "</div>"
      ],
      "text/plain": [
       "              time_hr  hr             time_bp   bp\n",
       "0 2022-01-01 09:50:00  90 2022-01-01 10:00:00  140"
      ]
     },
     "execution_count": 13,
     "metadata": {},
     "output_type": "execute_result"
    }
   ],
   "source": [
    "# Итог\n",
    "\n",
    "final_df"
   ]
  },
  {
   "cell_type": "code",
   "execution_count": 14,
   "id": "c50354d8",
   "metadata": {},
   "outputs": [],
   "source": [
    "comparison = pd.DataFrame({\n",
    "'time_hr': [datetime(2022,1,1,9,50)],\n",
    "'hr': [90],\n",
    "'time_bp': [datetime(2022,1,1,10)],\n",
    "'bp': [140]\n",
    "})"
   ]
  },
  {
   "cell_type": "code",
   "execution_count": 15,
   "id": "4a66661c",
   "metadata": {},
   "outputs": [
    {
     "data": {
      "text/html": [
       "<div>\n",
       "<style scoped>\n",
       "    .dataframe tbody tr th:only-of-type {\n",
       "        vertical-align: middle;\n",
       "    }\n",
       "\n",
       "    .dataframe tbody tr th {\n",
       "        vertical-align: top;\n",
       "    }\n",
       "\n",
       "    .dataframe thead th {\n",
       "        text-align: right;\n",
       "    }\n",
       "</style>\n",
       "<table border=\"1\" class=\"dataframe\">\n",
       "  <thead>\n",
       "    <tr style=\"text-align: right;\">\n",
       "      <th></th>\n",
       "      <th>time_hr</th>\n",
       "      <th>hr</th>\n",
       "      <th>time_bp</th>\n",
       "      <th>bp</th>\n",
       "    </tr>\n",
       "  </thead>\n",
       "  <tbody>\n",
       "    <tr>\n",
       "      <th>0</th>\n",
       "      <td>True</td>\n",
       "      <td>True</td>\n",
       "      <td>True</td>\n",
       "      <td>True</td>\n",
       "    </tr>\n",
       "  </tbody>\n",
       "</table>\n",
       "</div>"
      ],
      "text/plain": [
       "   time_hr    hr  time_bp    bp\n",
       "0     True  True     True  True"
      ]
     },
     "execution_count": 15,
     "metadata": {},
     "output_type": "execute_result"
    }
   ],
   "source": [
    "final_df == comparison"
   ]
  },
  {
   "cell_type": "code",
   "execution_count": null,
   "id": "e81928bc",
   "metadata": {},
   "outputs": [],
   "source": []
  }
 ],
 "metadata": {
  "kernelspec": {
   "display_name": "Python 3 (ipykernel)",
   "language": "python",
   "name": "python3"
  },
  "language_info": {
   "codemirror_mode": {
    "name": "ipython",
    "version": 3
   },
   "file_extension": ".py",
   "mimetype": "text/x-python",
   "name": "python",
   "nbconvert_exporter": "python",
   "pygments_lexer": "ipython3",
   "version": "3.9.13"
  }
 },
 "nbformat": 4,
 "nbformat_minor": 5
}
